{
 "cells": [
  {
   "cell_type": "code",
   "execution_count": 2,
   "metadata": {},
   "outputs": [
    {
     "name": "stdout",
     "output_type": "stream",
     "text": [
      "思 is saved as wav_chars\\思_YunxiNeural.wav\n",
      "考 is saved as wav_chars\\考_YunxiNeural.wav\n",
      "快 is saved as wav_chars\\快_YunxiNeural.wav\n",
      "乐 is saved as wav_chars\\乐_YunxiNeural.wav\n"
     ]
    }
   ],
   "source": [
    "# demo\n",
    "# edge-tts\n",
    "\n",
    "import asyncio\n",
    "import edge_tts\n",
    "import os\n",
    "import nest_asyncio\n",
    "\n",
    "nest_asyncio.apply() \n",
    "\n",
    "chars = [\"思\", \"考\", \"快\", \"乐\"]\n",
    "\n",
    "output_dir = \"wav_chars\"\n",
    "os.makedirs(output_dir, exist_ok=True)\n",
    "\n",
    "voice = \"zh-CN-YunxiNeural\"\n",
    "rate = \"+0%\"\n",
    "\n",
    "async def generate_wavs():\n",
    "    for char in chars:\n",
    "        output_path = os.path.join(output_dir, f\"{char}_YunxiNeural.wav\")\n",
    "        communicate = edge_tts.Communicate(text=char, voice=voice, rate=rate)\n",
    "        await communicate.save(output_path)\n",
    "        print(f\"{char} is saved as {output_path}\")\n",
    "\n",
    "await generate_wavs()\n"
   ]
  }
 ],
 "metadata": {
  "kernelspec": {
   "display_name": "Python 3",
   "language": "python",
   "name": "python3"
  },
  "language_info": {
   "codemirror_mode": {
    "name": "ipython",
    "version": 3
   },
   "file_extension": ".py",
   "mimetype": "text/x-python",
   "name": "python",
   "nbconvert_exporter": "python",
   "pygments_lexer": "ipython3",
   "version": "3.11.8"
  }
 },
 "nbformat": 4,
 "nbformat_minor": 2
}
