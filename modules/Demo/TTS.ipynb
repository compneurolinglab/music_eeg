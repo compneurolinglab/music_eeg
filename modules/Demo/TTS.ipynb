{
 "cells": [
  {
   "cell_type": "code",
   "execution_count": 2,
   "metadata": {},
   "outputs": [
    {
     "name": "stdout",
     "output_type": "stream",
     "text": [
      "思 is saved as wav_chars\\思_YunxiNeural.wav\n",
      "考 is saved as wav_chars\\考_YunxiNeural.wav\n",
      "快 is saved as wav_chars\\快_YunxiNeural.wav\n",
      "乐 is saved as wav_chars\\乐_YunxiNeural.wav\n"
     ]
    }
   ],
   "source": [
    "# demo\n",
    "# edge-tts\n",
    "\n",
    "import asyncio\n",
    "import edge_tts\n",
    "import os\n",
    "import nest_asyncio\n",
    "\n",
    "nest_asyncio.apply() \n",
    "\n",
    "chars = [\"思\", \"考\", \"快\", \"乐\"]\n",
    "\n",
    "output_dir = \"wav_chars\"\n",
    "os.makedirs(output_dir, exist_ok=True)\n",
    "\n",
    "voice = \"zh-CN-YunxiNeural\"\n",
    "rate = \"+0%\"\n",
    "\n",
    "async def generate_wavs():\n",
    "    for char in chars:\n",
    "        output_path = os.path.join(output_dir, f\"{char}_YunxiNeural.wav\")\n",
    "        communicate = edge_tts.Communicate(text=char, voice=voice, rate=rate)\n",
    "        await communicate.save(output_path)\n",
    "        print(f\"{char} is saved as {output_path}\")\n",
    "\n",
    "await generate_wavs()\n"
   ]
  },
  {
   "cell_type": "code",
   "execution_count": null,
   "metadata": {},
   "outputs": [],
   "source": [
    "from pydub import AudioSegment\n",
    "import os\n",
    "\n",
    "input_dir = \"wav_chars\"\n",
    "output_dir = \"wav_chars_trimmed\"\n",
    "\n",
    "os.makedirs(output_dir, exist_ok=True)\n",
    "\n",
    "for filename in os.listdir(input_dir):\n",
    "    if filename.endswith(\".wav\"):\n",
    "        input_path = os.path.join(input_dir, filename)\n",
    "        output_path = os.path.join(output_dir, filename)\n",
    "\n",
    "        sound = AudioSegment.from_wav(input_path)\n",
    "        trimmed = sound[:1000]\n",
    "\n",
    "        trimmed = trimmed.set_frame_rate(16000)\n",
    "\n",
    "        trimmed.export(output_path, format=\"wav\")\n",
    "        print(f\"Done {filename} -> {output_path}\")"
   ]
  },
  {
   "cell_type": "code",
   "execution_count": null,
   "metadata": {},
   "outputs": [],
   "source": [
    "# edge-tts\n",
    "\n",
    "import asyncio\n",
    "import edge_tts\n",
    "import os\n",
    "import nest_asyncio\n",
    "\n",
    "nest_asyncio.apply() \n",
    "\n",
    "chars = [\n",
    "    \"我\", \"想\", \"可\", \"以\", \"唱\", \"首\", \"歌\", \"用\", \"来\", \"形\", \"容\", \"天\", \"空\", \"的\", \"辽\", \"阔\",\n",
    "    \"拿\", \"起\", \"画\", \"笔\", \"描\", \"绘\", \"梦\", \"颜\", \"色\", \"遥\", \"望\", \"河\", \"从\", \"中\", \"获\", \"取\",\n",
    "    \"思\", \"考\", \"快\", \"乐\", \"不\", \"拘\", \"做\", \"你\", \"无\", \"法\", \"到\", \"达\", \"探\", \"索\", \"智\", \"联\",\n",
    "    \"世\", \"界\", \"共\", \"同\", \"家\", \"园\", \"它\", \"把\", \"去\", \"开\", \"创\", \"明\", \"人\", \"类\", \"心\", \"能\",\n",
    "    \"梯\", \"互\", \"谱\", \"出\", \"更\", \"美\", \"好\", \"音\", \"符\", \"有\", \"爱\", \"念\", \"和\", \"们\", \"温\", \"暖\",\n",
    "    \"间\", \"改\", \"变\", \"分\"\n",
    "]\n",
    "\n",
    "output_dir = \"wav_chars\"\n",
    "os.makedirs(output_dir, exist_ok=True)\n",
    "\n",
    "voice = \"zh-CN-YunxiNeural\"\n",
    "rate = \"+0%\"\n",
    "\n",
    "async def generate_wavs():\n",
    "    for char in chars:\n",
    "        output_path = os.path.join(output_dir, f\"{char}_YunxiNeural.wav\")\n",
    "        communicate = edge_tts.Communicate(text=char, voice=voice, rate=rate)\n",
    "        await communicate.save(output_path)\n",
    "        print(f\"{char} is saved as {output_path}\")\n",
    "\n",
    "await generate_wavs()"
   ]
  }
 ],
 "metadata": {
  "kernelspec": {
   "display_name": "Python 3",
   "language": "python",
   "name": "python3"
  },
  "language_info": {
   "codemirror_mode": {
    "name": "ipython",
    "version": 3
   },
   "file_extension": ".py",
   "mimetype": "text/x-python",
   "name": "python",
   "nbconvert_exporter": "python",
   "pygments_lexer": "ipython3",
   "version": "3.11.8"
  }
 },
 "nbformat": 4,
 "nbformat_minor": 2
}
