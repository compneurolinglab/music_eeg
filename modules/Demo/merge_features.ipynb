{
 "cells": [
  {
   "cell_type": "code",
   "execution_count": 6,
   "id": "82e569f7-76b4-4e68-b1e5-3cbc6b5a5b44",
   "metadata": {},
   "outputs": [
    {
     "name": "stdout",
     "output_type": "stream",
     "text": [
      "finished: conv1 -> autodl-tmp/merged_features1/conv1.npy, shape: (172, 86, 86, 96)\n",
      "finished: conv2 -> autodl-tmp/merged_features1/conv2.npy, shape: (172, 22, 22, 256)\n",
      "finished: conv3 -> autodl-tmp/merged_features1/conv3.npy, shape: (172, 11, 11, 512)\n",
      "finished: conv4_W -> autodl-tmp/merged_features1/conv4_W.npy, shape: (172, 11, 11, 1024)\n",
      "finished: conv5_W -> autodl-tmp/merged_features1/conv5_W.npy, shape: (172, 11, 11, 512)\n",
      "finished: conv4_G -> autodl-tmp/merged_features1/conv4_G.npy, shape: (172, 11, 11, 1024)\n",
      "finished: conv5_G -> autodl-tmp/merged_features1/conv5_G.npy, shape: (172, 11, 11, 512)\n"
     ]
    }
   ],
   "source": [
    "import os\n",
    "import numpy as np\n",
    "\n",
    "input_root = \"autodl-tmp/word_features/Music1\"\n",
    "\n",
    "output_root = \"autodl-tmp/merged_features1\"\n",
    "os.makedirs(output_root, exist_ok=True)\n",
    "\n",
    "layer_names = [\"conv1\", \"conv2\", \"conv3\", \"conv4_W\", \"conv5_W\", \"conv4_G\", \"conv5_G\"]\n",
    "\n",
    "for layer in layer_names:\n",
    "    layer_folder = os.path.join(input_root, layer)\n",
    "    output_path = os.path.join(output_root, f\"{layer}.npy\")\n",
    "\n",
    "    npy_files = sorted([\n",
    "        os.path.join(layer_folder, f)\n",
    "        for f in os.listdir(layer_folder)\n",
    "        if f.endswith(\".npy\")\n",
    "    ])\n",
    "\n",
    "    feature_list = [np.load(f) for f in npy_files]\n",
    "\n",
    "    if feature_list[0].ndim == 4 and feature_list[0].shape[0] == 1:\n",
    "        merged = np.concatenate(feature_list, axis=0)  # (172, H, W, C)\n",
    "    else:\n",
    "        merged = np.stack(feature_list, axis=0)  # (172, H, W, C)\n",
    "\n",
    "    np.save(output_path, merged)\n",
    "    print(f\"finished: {layer} -> {output_path}, shape: {merged.shape}\")\n"
   ]
  },
  {
   "cell_type": "code",
   "execution_count": null,
   "id": "9b9a7687-1c65-4f21-8717-de1784364b19",
   "metadata": {},
   "outputs": [],
   "source": []
  }
 ],
 "metadata": {
  "kernelspec": {
   "display_name": "Python (CNN)",
   "language": "python",
   "name": "kelletal_env"
  },
  "language_info": {
   "codemirror_mode": {
    "name": "ipython",
    "version": 3
   },
   "file_extension": ".py",
   "mimetype": "text/x-python",
   "name": "python",
   "nbconvert_exporter": "python",
   "pygments_lexer": "ipython3",
   "version": "3.12.2"
  }
 },
 "nbformat": 4,
 "nbformat_minor": 5
}
